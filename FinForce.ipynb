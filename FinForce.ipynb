{
 "cells": [
  {
   "cell_type": "code",
   "execution_count": 1,
   "metadata": {},
   "outputs": [],
   "source": [
    "%matplotlib inline"
   ]
  },
  {
   "cell_type": "code",
   "execution_count": 2,
   "metadata": {},
   "outputs": [],
   "source": [
    "import random\n",
    "import numpy as np\n",
    "import pandas as pd\n",
    "import matplotlib.pylab as pl\n",
    "from cadCAD.configuration import Configuration\n",
    "from cadCAD.engine import ExecutionMode, ExecutionContext, Executor"
   ]
  },
  {
   "cell_type": "code",
   "execution_count": 3,
   "metadata": {},
   "outputs": [],
   "source": [
    "# general setup\n",
    "time_steps = 50 \n",
    "\n",
    "#special PATs, user specific\n",
    "spPAT = 3\n",
    "# 'vote' -\n",
    "# 'reputation' -\n",
    "# 'governance' -\n",
    "\n",
    "#PAT attributes, PAT specific\n",
    "PAT_atr = False\n",
    "PAT_flav = False\n",
    "#flavour - good [0, 5] - bad [6, 10] - randomly distributed\n",
    "# users are good [1, 5]\n",
    "good_users = 50 #%\n",
    "# users are bad [6, 10]\n",
    "bad_users = 20 #%\n",
    "# users are ignorant [4, 7]\n",
    "ignorant_users = 30 #%\n",
    "\n",
    "# 'difficulty' \n",
    "PAT_diff_constant = False\n",
    "PAT_controlled = False\n",
    "good_PAT = 5\n",
    "ignorant_PAT = 2\n",
    "bad_PAT = 1\n",
    "\n",
    "PAT_atr_max = False # not yet implemented\n",
    "# 'max' -\n",
    "# 'value' -\n",
    "\n",
    "#population settings\n",
    "community = True\n",
    "community_size_1 = 15\n",
    "community_series = True\n",
    "# not implemented yet\n",
    "community_size_2 = 15 \n",
    "# not implemented yet\n",
    "between_com = 15      \n",
    "\n",
    "#TCR settings - only voting implemented \n",
    "TCR = True          \n",
    "reputation_threshold_for_voting = 0 # reputation tokens\n",
    "voting_rate = False    # not imnplemented yet\n",
    "voting_rate_value = 20 #% not implemented yet\n",
    "\n",
    "#reputation token allocation\n",
    "\n",
    "# for proof of positive action\n",
    "rep_token_proof = True\n",
    "# for claiming/receiving a token\n",
    "rep_token_claim = True\n",
    "rep_PAT_creator = False\n",
    "\n",
    "#random OPATs\n",
    "# the PATs are selected randomly for voting from the existing PAT list \n",
    "random_OPATs = False\n",
    "# the selected PATs for voting are picked from fixed list of PAT ids [5, 10, 15, 20, 25, 30, 35, 40 etc.]\n",
    "fixed_OPAT_sugestion = False\n",
    "\n",
    "# the selected PATs from a fixed list [5, 10, 15, 20, 25, 30, 35, 40] become OPATs regardless of the vote results\n",
    "fixed_OPATs = True\n"
   ]
  },
  {
   "cell_type": "code",
   "execution_count": 4,
   "metadata": {},
   "outputs": [],
   "source": [
    "simulation_parameters = {\n",
    "    'T': range(time_steps),\n",
    "    'N': 1,\n",
    "    'M': {}\n",
    "}"
   ]
  },
  {
   "cell_type": "code",
   "execution_count": 5,
   "metadata": {},
   "outputs": [],
   "source": [
    "def get_update_name(variable_name):\n",
    "    return \"add_\" + variable_name"
   ]
  },
  {
   "cell_type": "code",
   "execution_count": 6,
   "metadata": {},
   "outputs": [],
   "source": [
    "#general constants\n",
    "TIMESTEP = 'timestep' # access to current timestep with s[TIMESTEP]\n",
    "USERS = \"users\"\n",
    "PATS = \"pats\"\n",
    "PAT_ARGUMENTS = \"pat_arguments\"\n",
    "OPATS = \"opats\"\n",
    "WALLET_GAINS = \"wallet_gains\"\n",
    "ADD_USERS = get_update_name(USERS)\n",
    "ADD_PATS = get_update_name(PATS)\n",
    "\n",
    "proposed_PAT_id = [5, 10, 15, 20, 25, 30, 35, 40]\n"
   ]
  },
  {
   "cell_type": "code",
   "execution_count": 7,
   "metadata": {},
   "outputs": [],
   "source": [
    "if PAT_flav:\n",
    "    initial_conditions = {\n",
    "        USERS: {0:{}},  # users are numerical ids and a dictionary of their current wallet\n",
    "        PATS: [0],      # pats are currently simply numerical ids\n",
    "        PAT_ARGUMENTS: [(0, 1, 1)], # PAT specific atributes\n",
    "        OPATS: ()\n",
    "    }\n",
    "else:\n",
    "    initial_conditions = {\n",
    "        USERS: {0:{}},  # users are numerical ids and a dictionary of their current wallet\n",
    "        PATS: [0],      # pats are currently simply numerical ids\n",
    "        PAT_ARGUMENTS: [(0, 1)], # PAT specific atributes\n",
    "        OPATS: ()\n",
    "    }"
   ]
  },
  {
   "cell_type": "markdown",
   "metadata": {},
   "source": [
    "#### Secondary Functions"
   ]
  },
  {
   "cell_type": "code",
   "execution_count": 8,
   "metadata": {},
   "outputs": [],
   "source": [
    "def clear_PAT_list(pats):\n",
    "    for i in range(0, len(pats)-1):\n",
    "        try:\n",
    "            if pats[i] == \"vote\":\n",
    "                del pats[i]\n",
    "\n",
    "            if pats[i] == \"reputation\":\n",
    "                del pats[i]\n",
    "\n",
    "            if pats[i] == \"governance\":\n",
    "                del pats[i]\n",
    "        except:\n",
    "            pass\n",
    "    return pats"
   ]
  },
  {
   "cell_type": "code",
   "execution_count": 9,
   "metadata": {},
   "outputs": [],
   "source": [
    "def pat_proposal(users):\n",
    "    choice = None\n",
    "    p = users[PATS].copy()\n",
    "    op = users[OPATS]\n",
    "    ch_list_1 = clear_PAT_list(p)\n",
    "\n",
    "    if fixed_OPAT_sugestion:\n",
    "        if users[TIMESTEP] % 5 != 0:\n",
    "            pass\n",
    "        else:\n",
    "            choice = users[TIMESTEP]\n",
    "    else:\n",
    "        if len(op) > 0 and op[0] != None:\n",
    "            if ch_list_1 != None:\n",
    "                if len(ch_list_1) > 0:\n",
    "                    ch_list = set(ch_list_1) - set(list(op))\n",
    "                    choice = random.choice(list(ch_list))\n",
    "            else:\n",
    "                choice = None\n",
    "        else:\n",
    "            choice = random.choice(p)\n",
    "    return choice\n"
   ]
  },
  {
   "cell_type": "code",
   "execution_count": 10,
   "metadata": {},
   "outputs": [],
   "source": [
    "def vote_result(users):\n",
    "    yes = 0\n",
    "    no = 0\n",
    "    for u in range(0, len(users)):\n",
    "        if 'vote' in users[u]:\n",
    "            if users[u].get(\"vote\") == 0:\n",
    "                no += 1\n",
    "            if users[u].get(\"vote\") == 1:\n",
    "                yes += 1\n",
    "        else:\n",
    "            pass\n",
    "    if no == 0 and yes == 0 or no == yes:\n",
    "        vote = None\n",
    "    elif no > yes:\n",
    "        vote = False\n",
    "    elif no < yes:\n",
    "        vote = True\n",
    "    return vote"
   ]
  },
  {
   "cell_type": "code",
   "execution_count": 11,
   "metadata": {},
   "outputs": [],
   "source": [
    "def good_man(u, pats, arg, tstep, gain):\n",
    "    print (\"good man\")\n",
    "    good_PAT_list = []\n",
    "    for pat in pats:  \n",
    "        for i in arg:\n",
    "            if i[0] == pat:\n",
    "                if i[2] >= 1 and i[2] <= 3:\n",
    "                    good_PAT_list.append(pat)\n",
    "\n",
    "    for p in random.sample(good_PAT_list, random.randint(0, len(good_PAT_list))):\n",
    "        for i in arg:\n",
    "            if i[0] == p:\n",
    "                if tstep % i[1] == 0:\n",
    "                    gain[(u, p)] = 1\n",
    "    print(\"good, gain: \", gain)\n",
    "    return gain"
   ]
  },
  {
   "cell_type": "code",
   "execution_count": 12,
   "metadata": {},
   "outputs": [],
   "source": [
    "def ignorant_man(u, pats, arg, tstep, gain):\n",
    "    print (\"ignorant man\")\n",
    "    ignorant_PAT_list = []\n",
    "    for pat in pats: \n",
    "        for i in arg:\n",
    "            if i[0] == pat:\n",
    "                if i[2] >= 4 and i[2] <= 7:\n",
    "                    ignorant_PAT_list.append(pat)\n",
    "                    \n",
    "    for p in random.sample(ignorant_PAT_list, random.randint(0, len(ignorant_PAT_list))):\n",
    "        for i in arg:\n",
    "            if i[0] == p:\n",
    "                if tstep % i[1] == 0:\n",
    "                    gain[(u, p)] = 1\n",
    "    print(\"ignorant, gain: \", gain)\n",
    "    return gain"
   ]
  },
  {
   "cell_type": "code",
   "execution_count": 13,
   "metadata": {},
   "outputs": [],
   "source": [
    "def bad_man(u, pats, arg, tstep, gain):\n",
    "    print (\"bad man\")\n",
    "    bad_PAT_list = []\n",
    "    for pat in pats:\n",
    "        for i in arg:\n",
    "            if i[0] == pat:\n",
    "                if i[2] >= 7:\n",
    "                    bad_PAT_list.append(pat)\n",
    "\n",
    "    for p in random.sample(bad_PAT_list, random.randint(0, len(bad_PAT_list))):\n",
    "        for i in arg:\n",
    "            if i[0] == p:\n",
    "                if tstep % i[1] == 0:\n",
    "                    gain[(u, p)] = 1\n",
    "    print(\"bad, gain: \", gain)\n",
    "    return gain"
   ]
  },
  {
   "cell_type": "code",
   "execution_count": 14,
   "metadata": {},
   "outputs": [],
   "source": [
    "def distribute_tokens_pat_attributes(s, gain, extra_gain):\n",
    "    pats = s[PATS]\n",
    "    p = pats[3:]\n",
    "    users = s[USERS]\n",
    "    tstep = s[TIMESTEP]\n",
    "    arg = s[PAT_ARGUMENTS]\n",
    "    print(\"arguments: \", arg)\n",
    "    opats = s[OPATS]\n",
    "    # at most all the PATs of a person get a token\n",
    "    for u in users:\n",
    "        # for each pat in a list of paths of random length and random values\n",
    "        if arg[u][2] <= 3:\n",
    "            good_man(u, pats, arg, tstep, gain)\n",
    "            #print(\"good man\")\n",
    "        if arg[u][2] >= 4 and arg[u][2] <= 7:\n",
    "            ignorant_man(u, pats, arg, tstep, gain)\n",
    "            #print(\"ignorant man\")\n",
    "        if arg[u][2] >=8 and arg[u][2]<=10:\n",
    "            bad_man(u, pats, arg, tstep, gain)\n",
    "            #print(\"bad man\")"
   ]
  },
  {
   "cell_type": "code",
   "execution_count": 15,
   "metadata": {},
   "outputs": [],
   "source": [
    "def distribute_tokens(s, gain, extra_gain):\n",
    "    users = s[USERS]\n",
    "    pats = s[PATS]\n",
    "    opats = s[OPATS]\n",
    "    p = pats[3:]\n",
    "    # at most all the PATs of a person get a token\n",
    "    for u in users:\n",
    "        # for each pat in a list of paths of random length and random values\n",
    "        for pat in random.sample(p, random.randint(0, len(p))):\n",
    "            gain[(u, pat)] = 1\n",
    "        if opats != None:\n",
    "            # if OPATs exist, every user will be allocated a token for each OPAT\n",
    "            for opa in range(0, len(opats)):\n",
    "                gain[(u, opats[opa])] = 1\n",
    "    return gain\n"
   ]
  },
  {
   "cell_type": "code",
   "execution_count": 16,
   "metadata": {},
   "outputs": [],
   "source": [
    "def get_rep_token(wallet, gain, n):\n",
    "    if 'reputation' in wallet:\n",
    "        wallet[\"reputation\"] = wallet.get(\"reputation\") + n * gain\n",
    "    else :\n",
    "        d = {\"reputation\": n}\n",
    "        wallet.update(d)\n",
    "    return wallet\n"
   ]
  },
  {
   "cell_type": "code",
   "execution_count": 17,
   "metadata": {},
   "outputs": [],
   "source": [
    "def add_fixed_opat(timestep, opats):\n",
    "    if timestep % 5 != 0:\n",
    "        pass\n",
    "    else:\n",
    "        proposed_PAT_id = timestep\n",
    "        opats = opats + tuple([proposed_PAT_id])\n",
    "    return opats"
   ]
  },
  {
   "cell_type": "code",
   "execution_count": 18,
   "metadata": {},
   "outputs": [],
   "source": [
    "def evaluate_vote_add_opat(prop_id, vote, opats):\n",
    "    if prop_id == None:\n",
    "        print(\"No proposed PAT id given\")\n",
    "        pass\n",
    "    \n",
    "    if vote == None:\n",
    "        print(\"Inconclusive vote\")\n",
    "        pass \n",
    "    \n",
    "    if vote == False: \n",
    "        print(\"Negative vote\")\n",
    "        pass\n",
    "    else:\n",
    "        opats = opats + tuple([prop_id])\n",
    "        \n",
    "    if opats != None:\n",
    "        if has_duplicates(opats):\n",
    "            opats = get_rid_of_duplicates(opats)\n",
    "            \n",
    "    return opats"
   ]
  },
  {
   "cell_type": "code",
   "execution_count": 19,
   "metadata": {},
   "outputs": [],
   "source": [
    "def has_duplicates(iterable):\n",
    "    l = list(iterable)\n",
    "    try:\n",
    "        return len(set(iterable)) != len(iterable)\n",
    "    except:\n",
    "        l = list(iterable)\n",
    "        return len(set(l)) != len(l)\n"
   ]
  },
  {
   "cell_type": "code",
   "execution_count": 20,
   "metadata": {},
   "outputs": [],
   "source": [
    "def get_rid_of_duplicates(opats):\n",
    "    l = list(opats)\n",
    "    cleaned_list = list(dict.fromkeys(l))\n",
    "    return tuple(cleaned_list)"
   ]
  },
  {
   "cell_type": "code",
   "execution_count": 21,
   "metadata": {},
   "outputs": [],
   "source": [
    "def identify_PAT_flavour(structure, treshold):\n",
    "    if list(structure.keys())[list(structure.values()).index(treshold)] == \"b\":\n",
    "        flav = random.randint(8, 10)\n",
    "    elif list(structure.keys())[list(structure.values()).index(treshold)] == \"g\":\n",
    "        flav = random.randint(1, 3)\n",
    "    else:\n",
    "        flav = random.randint(4, 7)\n",
    "    return flav"
   ]
  },
  {
   "cell_type": "markdown",
   "metadata": {},
   "source": [
    "#### Main Functions - to update at every time step"
   ]
  },
  {
   "cell_type": "code",
   "execution_count": 22,
   "metadata": {},
   "outputs": [],
   "source": [
    "def create_users(params, step, sL, s):\n",
    "    next_user_id = len(s[USERS])\n",
    "    x = {ADD_USERS:[\n",
    "        (next_user_id, {}),\n",
    "    ]}\n",
    "    if next_user_id == 1:\n",
    "        u = s[USERS].copy()\n",
    "        d = {\"reputation\": 1}\n",
    "        u[0].update(d)\n",
    "    return x"
   ]
  },
  {
   "cell_type": "code",
   "execution_count": 23,
   "metadata": {},
   "outputs": [],
   "source": [
    "def create_pat(params, step, sL, s):\n",
    "    next_pat_id = len(s[PATS])\n",
    "    if next_pat_id >= (spPAT - 1):\n",
    "        next_pat_id = len(s[PATS]) - spPAT\n",
    "    x = {ADD_PATS:[next_pat_id,]}\n",
    "    return x"
   ]
  },
  {
   "cell_type": "code",
   "execution_count": 24,
   "metadata": {},
   "outputs": [],
   "source": [
    "def create_pat_arguments(params, step, sL, s):\n",
    "    next_pat_id = len(s[PAT_ARGUMENTS])\n",
    "    flav = 1\n",
    "\n",
    "    if PAT_flav:\n",
    "        community_structure = {\"g\": good_users, \"i\": ignorant_users, \"b\": bad_users}\n",
    "        percentages = (bad_users, ignorant_users, good_users)\n",
    "        print(\"percentages\", percentages)\n",
    "        top = max(percentages)\n",
    "        print(\"top\", top)\n",
    "        bottom = min(percentages)\n",
    "        print(\"bottom\", bottom)\n",
    "        middle1 = [x for x in percentages if x != top]\n",
    "        print (\"middle1\", middle1)\n",
    "        try:\n",
    "            middle = [x for x in middle1 if x != bottom][0]\n",
    "        except:\n",
    "            middle = middle1[0]\n",
    "        choice = random.randint(1, 100)\n",
    "        print(\"choice\", choice)\n",
    "        if choice <= top:\n",
    "            #print(\"type of user: \", list(community_structure.keys())[list(community_structure.values()).index(top)])\n",
    "            flav = identify_PAT_flavour(community_structure, top)\n",
    "        if choice <= top + middle and choice > top:\n",
    "            #print(\"type of user: \", list(community_structure.keys())[list(community_structure.values()).index(middle)])\n",
    "            flav = identify_PAT_flavour(community_structure, middle)\n",
    "        if choice > top + middle:\n",
    "            #print(\"type of user: \", list(community_structure.keys())[list(community_structure.values()).index(bottom)])\n",
    "            flav = identify_PAT_flavour(community_structure, bottom)\n",
    "\n",
    "        if PAT_diff_constant:\n",
    "            difficulty = 1\n",
    "        if PAT_controlled:\n",
    "            if flav <= 3:\n",
    "                difficulty = good_PAT\n",
    "            if flav >= 4 and flav <=7:\n",
    "                difficulty = ignorant_PAT\n",
    "            if flav >= 8:\n",
    "                difficulty = bad_PAT\n",
    "        if PAT_diff_constant == False and PAT_controlled == False:\n",
    "            difficulty = random.randint(1, 10)\n",
    "        return ({'ID': next_pat_id, 'dif': difficulty, \"flav\": flav})\n",
    "    else:\n",
    "        if PAT_diff_constant:\n",
    "            difficulty = 1\n",
    "        else:\n",
    "            difficulty = random.randint(1, 10)\n",
    "        return ({'ID': next_pat_id, 'dif': difficulty})"
   ]
  },
  {
   "cell_type": "code",
   "execution_count": 25,
   "metadata": {},
   "outputs": [],
   "source": [
    "def user_actions(params, step, sL, s):\n",
    "    gain = {}\n",
    "    gain_ext = {}\n",
    "    if community:\n",
    "        if s[TIMESTEP] <= community_size_1:\n",
    "            pass\n",
    "        elif community_size_2 > 0:\n",
    "            if s[TIMESTEP] > (community_size_1 + between_com) and s[TIMESTEP] <= (community_size_1 + between_com + community_size_2):\n",
    "                pass\n",
    "            else:\n",
    "                if PAT_atr:\n",
    "                    distribute_tokens_pat_attributes(s, gain, gain_ext)\n",
    "                else:\n",
    "                    distribute_tokens(s, gain, gain_ext)        \n",
    "        else:\n",
    "            if PAT_atr:\n",
    "                distribute_tokens_pat_attributes(s, gain, gain_ext)\n",
    "            else:\n",
    "                distribute_tokens(s, gain, gain_ext)\n",
    "    else:\n",
    "        if PAT_atr:\n",
    "            distribute_tokens_pat_attributes(s, gain, gain_ext)\n",
    "        else:\n",
    "            distribute_tokens(s, gain, gain_ext)\n",
    "    return {WALLET_GAINS: gain}"
   ]
  },
  {
   "cell_type": "code",
   "execution_count": 26,
   "metadata": {},
   "outputs": [],
   "source": [
    "def user_vote(params, step, sL, s):\n",
    "    x = s[USERS].copy()\n",
    "    pat = pat_proposal(s)\n",
    "    for u in range(0, len(x)-1):\n",
    "        # ---------------F4-----fixed threshold or percentage\n",
    "        if 'reputation' in x[u] and x[u].get(\"reputation\") > reputation_threshold_for_voting:\n",
    "            if \"vote\" in x[u]:\n",
    "                v = random.randint(0, 1)\n",
    "                d = {\"vote\": v}\n",
    "                x[u].update(d)\n",
    "            else:\n",
    "                d = {\"vote\": 0}\n",
    "                x[u].update(d)\n",
    "\n",
    "    return ({'Vote':x, 'Proposed_pat':pat})\n"
   ]
  },
  {
   "cell_type": "markdown",
   "metadata": {},
   "source": [
    "### Main Functions - to update the variables at every time step"
   ]
  },
  {
   "cell_type": "code",
   "execution_count": 27,
   "metadata": {},
   "outputs": [],
   "source": [
    "def add_users(params, step, sL, s, _input):\n",
    "    x = s[USERS].copy()\n",
    "    for new_user_id, wallet in _input[ADD_USERS]:\n",
    "        x[new_user_id] = wallet\n",
    "    return (USERS, x)"
   ]
  },
  {
   "cell_type": "code",
   "execution_count": 28,
   "metadata": {},
   "outputs": [],
   "source": [
    "def add_pat(params, step, sL, s, _input):\n",
    "    x = s[PATS].copy()\n",
    "    if len(x) <=2:\n",
    "        initial = x\n",
    "        spec = ['vote', 'reputation', 'governance']\n",
    "        x = spec + initial\n",
    "    x.extend(_input[ADD_PATS])\n",
    "    #if setup.rep_PAT_owner:\n",
    "    # ---------------F3-------------------------------------\n",
    "    #add activity token to the user who comes up with the added token     - PAT_owner\n",
    "        #u = s[USERS].copy()\n",
    "        #matching_user = _input[ADD_PATS][0]\n",
    "        #x = get_rep_token(u[user], 1, 1)\n",
    "        #if u[matching_user].get(\"reputation\", 0) == 0:\n",
    "        #    d = {\"reputation\": 1}\n",
    "        #    u[matching_user].update(d)\n",
    "        #else:\n",
    "        #    u[matching_user][\"reputation\"] = u[matching_user].get(\"reputation\") + 1\n",
    "    return (PATS, x)\n"
   ]
  },
  {
   "cell_type": "code",
   "execution_count": 29,
   "metadata": {},
   "outputs": [],
   "source": [
    "def add_pat_arguments(params, step, sL, s, _input):\n",
    "    x = s[PAT_ARGUMENTS].copy()\n",
    "    if PAT_flav:\n",
    "        d = (_input[\"ID\"], _input[\"dif\"], _input[\"flav\"])\n",
    "        x.append(d)\n",
    "    else:\n",
    "        d = (_input[\"ID\"], _input[\"dif\"])\n",
    "        x.append(d)\n",
    "    return (PAT_ARGUMENTS, x)\n"
   ]
  },
  {
   "cell_type": "code",
   "execution_count": 30,
   "metadata": {},
   "outputs": [],
   "source": [
    "def update_user_wallets(params, step, sL, s, _input):\n",
    "    x = s[USERS].copy()\n",
    "    changes = _input[WALLET_GAINS]\n",
    "    for (user, pat), gain in changes.items():\n",
    "        #add the token itself\n",
    "        x[user][pat] = x[user].get(pat, 0) + gain\n",
    "        if rep_token_claim:\n",
    "            if rep_token_proof:\n",
    "                # gain one reputation token for the proof of positive action\n",
    "                # and one for receiving a token (of any kind)\n",
    "                x[user] = get_rep_token(x[user], gain, 1)\n",
    "                x[user] = get_rep_token(x[user], gain, 1)\n",
    "            else:\n",
    "                x[user] = get_rep_token(x[user], gain, 1)\n",
    "        if rep_PAT_creator:\n",
    "            x[user] = get_rep_token(x[user], gain, 1)\n",
    "    return (USERS, x)"
   ]
  },
  {
   "cell_type": "code",
   "execution_count": 31,
   "metadata": {},
   "outputs": [],
   "source": [
    "def opats(params, step, sL, s, _input):\n",
    "    result = vote_result(_input[\"Vote\"])\n",
    "    proposed_PAT_id = None\n",
    "    updated_opats = s[OPATS]\n",
    "    if random_OPATs or fixed_OPAT_sugestion:\n",
    "        proposed_PAT_id = _input[\"Proposed_pat\"]\n",
    "        updated_opats = evaluate_vote_add_opat(proposed_PAT_id, result, updated_opats)\n",
    "    if fixed_OPATs:\n",
    "        updated_opats = add_fixed_opat(s[TIMESTEP], s[OPATS])\n",
    "    return (OPATS, updated_opats)\n"
   ]
  },
  {
   "cell_type": "code",
   "execution_count": 32,
   "metadata": {},
   "outputs": [],
   "source": [
    "if TCR:\n",
    "    partial_state_update_blocks = [\n",
    "        {\n",
    "            'policies': {\n",
    "                'create_users': create_users,\n",
    "            },\n",
    "            'variables': {\n",
    "                USERS: add_users,\n",
    "            }\n",
    "        },\n",
    "\n",
    "        {\n",
    "            'policies': {\n",
    "                'create_pat': create_pat,\n",
    "            },\n",
    "            'variables': {\n",
    "                PATS: add_pat,\n",
    "            }\n",
    "        },\n",
    "\n",
    "        {\n",
    "            'policies': {\n",
    "                'user_actions': user_actions,\n",
    "            },\n",
    "            'variables': {\n",
    "                USERS: update_user_wallets,\n",
    "            }\n",
    "        },\n",
    "        {\n",
    "            'policies': {\n",
    "                'user_vote': user_vote,\n",
    "            },\n",
    "            'variables': {\n",
    "                OPATS: opats,\n",
    "            }\n",
    "        },\n",
    "    ]\n",
    "if PAT_atr:\n",
    "    partial_state_update_blocks = [\n",
    "        {\n",
    "            'policies': {\n",
    "                'create_users': create_users,\n",
    "            },\n",
    "            'variables': {\n",
    "                USERS: add_users,\n",
    "            }\n",
    "        },\n",
    "\n",
    "        {\n",
    "            'policies': {\n",
    "                'create_pat': create_pat,\n",
    "            },\n",
    "            'variables': {\n",
    "                PATS: add_pat,\n",
    "            }\n",
    "        },\n",
    "\n",
    "        {\n",
    "            'policies': {\n",
    "                'create_pat_arguments': create_pat_arguments,\n",
    "            },\n",
    "            'variables': {\n",
    "                PAT_ARGUMENTS: add_pat_arguments,\n",
    "            }\n",
    "        },\n",
    "\n",
    "        {\n",
    "            'policies': {\n",
    "                'user_actions': user_actions,\n",
    "            },\n",
    "            'variables': {\n",
    "                USERS: update_user_wallets,\n",
    "            }\n",
    "        },\n",
    "    ]\n",
    "if TCR==False and PAT_atr==False:\n",
    "    partial_state_update_blocks = [\n",
    "        {\n",
    "            'policies': {\n",
    "                'create_users': create_users,\n",
    "            },\n",
    "            'variables': {\n",
    "                USERS: add_users,\n",
    "            }\n",
    "        },\n",
    "\n",
    "        {\n",
    "            'policies': {\n",
    "                'create_pat': create_pat,\n",
    "            },\n",
    "            'variables': {\n",
    "                PATS: add_pat,\n",
    "            }\n",
    "        },\n",
    "\n",
    "        {\n",
    "            'policies': {\n",
    "                'user_actions': user_actions,\n",
    "            },\n",
    "            'variables': {\n",
    "                USERS: update_user_wallets,\n",
    "            }\n",
    "        },\n",
    "    ]"
   ]
  },
  {
   "cell_type": "code",
   "execution_count": 33,
   "metadata": {
    "scrolled": true
   },
   "outputs": [
    {
     "name": "stdout",
     "output_type": "stream",
     "text": [
      "\n",
      "                            __________   ____ \n",
      "          ________ __ _____/ ____/   |  / __ \\\n",
      "         / ___/ __` / __  / /   / /| | / / / /\n",
      "        / /__/ /_/ / /_/ / /___/ ___ |/ /_/ / \n",
      "        \\___/\\__,_/\\__,_/\\____/_/  |_/_____/  \n",
      "        by BlockScience\n",
      "        \n",
      "Execution Mode: single_proc: [<cadCAD.configuration.Configuration object at 0x000001AAE9BB91D0>]\n",
      "Configurations: [<cadCAD.configuration.Configuration object at 0x000001AAE9BB91D0>]\n"
     ]
    }
   ],
   "source": [
    "config = Configuration(initial_state=initial_conditions,                         #dict containing variable names and initial values\n",
    "                       partial_state_update_blocks=partial_state_update_blocks,  #dict containing state update functions\n",
    "                       sim_config=simulation_parameters                          #dict containing simulation parameters\n",
    "                      )\n",
    "\n",
    "exec_mode = ExecutionMode()\n",
    "exec_context = ExecutionContext(exec_mode.single_proc)\n",
    "executor = Executor(exec_context, [config])                                       #Pass the configuration object inside an array\n",
    "raw_result, tensor = executor.execute()\n"
   ]
  },
  {
   "cell_type": "markdown",
   "metadata": {},
   "source": [
    "#### Name construction "
   ]
  },
  {
   "cell_type": "code",
   "execution_count": 34,
   "metadata": {},
   "outputs": [],
   "source": [
    "if TCR:\n",
    "    name = \"tcr_\"\n",
    "else:\n",
    "    name = \"s_\"\n",
    "name = name + \"t\" + str(time_steps) + \"_c\"\n",
    "if community and community_size_1:\n",
    "    if community_size_2:\n",
    "        name = name + \"11_\"\n",
    "    name = name + \"1_\"\n",
    "else:\n",
    "    name = name + \"0_\"\n",
    "name = name + \"vt\" + str(reputation_threshold_for_voting)\n",
    "if random_OPATs:\n",
    "    name = name + \"_rOPATs\"\n",
    "if fixed_OPATs:\n",
    "    name = name + \"_fOPATs\"\n",
    "if fixed_OPAT_sugestion:\n",
    "    name = name + \"_fsOPATs\"\n",
    "if PAT_flav:\n",
    "    name = name + \"_flav\" + str(good_users) + str(ignorant_users) + str(bad_users)\n",
    "else:\n",
    "    name = name + \"_simplePATs\""
   ]
  },
  {
   "cell_type": "code",
   "execution_count": 35,
   "metadata": {},
   "outputs": [],
   "source": [
    "#### Data analysis"
   ]
  },
  {
   "cell_type": "code",
   "execution_count": 36,
   "metadata": {},
   "outputs": [],
   "source": [
    "df = pd.DataFrame(raw_result)\n",
    "t_step = raw_result[len(raw_result)-1][\"timestep\"]"
   ]
  },
  {
   "cell_type": "code",
   "execution_count": 37,
   "metadata": {},
   "outputs": [],
   "source": [
    "def clean_PATS_of_special_tokens(s):\n",
    "    if s.get(\"reputation\", 0) != 0 or s.get(\"reputation\") == 0:\n",
    "        s.pop(\"reputation\")\n",
    "\n",
    "    if s.get(\"activity\", 0) != 0 or s.get(\"activity\") == 0:\n",
    "        s.pop(\"activity\")\n",
    "\n",
    "    if s.get(\"vote\", 0) != 0 or s.get(\"vote\") == 0:\n",
    "        s.pop(\"vote\")\n",
    "\n",
    "    if s.get(\"governance\", 0) != 0 or s.get(\"governance\") == 0:\n",
    "        s.pop(\"governance\")\n",
    "    return s"
   ]
  },
  {
   "cell_type": "code",
   "execution_count": 38,
   "metadata": {},
   "outputs": [],
   "source": [
    "def calculate_total_tokens_per_pat(state):\n",
    "    distribution = {pat:0 for pat in state[PATS]}\n",
    "    for user_wallet in state[USERS].values():\n",
    "        for pat, number_of_tokens in user_wallet.items():\n",
    "            if pat != None:\n",
    "                distribution[pat] += number_of_tokens\n",
    "    dist = clean_PATS_of_special_tokens(distribution)\n",
    "    return dist"
   ]
  },
  {
   "cell_type": "code",
   "execution_count": 39,
   "metadata": {},
   "outputs": [],
   "source": [
    "def calculate_number_of_tokens_per_person(state):\n",
    "    distribution = {user: 0 for user in state[USERS].keys()}\n",
    "    user = 0\n",
    "    for user_wallet in state[USERS].values():\n",
    "        for pat, number_of_tokens in user_wallet.items():\n",
    "            if pat != \"reputation\":\n",
    "                distribution[user] += number_of_tokens\n",
    "            else:\n",
    "                pass\n",
    "        user += 1\n",
    "    return distribution\n"
   ]
  },
  {
   "cell_type": "code",
   "execution_count": 40,
   "metadata": {},
   "outputs": [],
   "source": [
    "def calculate_effort_per_person(state):\n",
    "    distribution = {user: 0 for user in state[USERS].keys()}\n",
    "    user = 0\n",
    "    for user_wallet in state[USERS].values():\n",
    "        for pat, number_of_tokens in user_wallet.items():\n",
    "            if pat != \"reputation\":\n",
    "                distribution[user] += number_of_tokens * raw_result[-1][PAT_ARGUMENTS][pat][-1]\n",
    "            else:\n",
    "                pass\n",
    "        user += 1\n",
    "    return distribution"
   ]
  },
  {
   "cell_type": "code",
   "execution_count": 41,
   "metadata": {},
   "outputs": [],
   "source": [
    "if PAT_flav:\n",
    "    from tabulate import tabulate\n",
    "    headers = ['Pat id', 'difficulty', 'flavour']\n",
    "    data = sorted([(k,v,u) for k,v, u in raw_result[-1][PAT_ARGUMENTS]])\n",
    "    print(tabulate(data, headers=headers))"
   ]
  },
  {
   "cell_type": "code",
   "execution_count": 42,
   "metadata": {
    "scrolled": true
   },
   "outputs": [
    {
     "data": {
      "image/png": "[encoded data removed]",
      "text/plain": [
       "<Figure size 432x288 with 1 Axes>"
      ]
     },
     "metadata": {
      "needs_background": "light"
     },
     "output_type": "display_data"
    }
   ],
   "source": [
    "plt1 = pl.scatter(calculate_total_tokens_per_pat(raw_result[-1]).keys(),\n",
    "           calculate_total_tokens_per_pat(raw_result[-1]).values())\n",
    "\n",
    "pl.xticks(np.arange(0, t_step+1, 5))\n",
    "pl.title(\"tokens_PAT_\" + name)\n",
    "pl.xlabel(\"PATs\")\n",
    "pl.ylabel(\"nr. of tokens\")\n",
    "pl.savefig(\"tokens_PAT_\" + name + \".png\")\n",
    "pl.show()"
   ]
  },
  {
   "cell_type": "code",
   "execution_count": 43,
   "metadata": {},
   "outputs": [
    {
     "data": {
      "image/png": "[encoded data removed]",
      "text/plain": [
       "<Figure size 432x288 with 1 Axes>"
      ]
     },
     "metadata": {
      "needs_background": "light"
     },
     "output_type": "display_data"
    }
   ],
   "source": [
    "plt1 = pl.scatter(calculate_number_of_tokens_per_person(raw_result[-1]).keys(),\n",
    "                  calculate_number_of_tokens_per_person(raw_result[-1]).values())\n",
    "\n",
    "pl.xticks(np.arange(0, time_steps+1, 5))\n",
    "pl.title(\"tokens_user_\" + name)\n",
    "pl.xlabel(\"user id\")\n",
    "pl.ylabel(\"nr. of tokens\")\n",
    "pl.savefig(\"tokens_user_\" + name + \".png\")\n",
    "pl.show()"
   ]
  },
  {
   "cell_type": "code",
   "execution_count": 44,
   "metadata": {},
   "outputs": [],
   "source": [
    "if PAT_atr:\n",
    "    U1 = calculate_number_of_tokens_per_person(raw_result[-1]).keys()\n",
    "    T = calculate_number_of_tokens_per_person(raw_result[-1]).values()\n",
    "    U2 = calculate_effort_per_person(raw_result[-1]).keys()\n",
    "    E = calculate_effort_per_person(raw_result[-1]).values()\n",
    "\n",
    "    fig = pl.figure()\n",
    "    ax = fig.add_subplot(111)\n",
    "\n",
    "    N = len(U1)\n",
    "\n",
    "    ind = np.arange(N)\n",
    "    width = 0.6\n",
    "\n",
    "    ## the bars\n",
    "    rects1 = ax.bar(ind, T, width,\n",
    "                color='purple',\n",
    "                #yerr=TStd,\n",
    "                error_kw=dict(elinewidth=2,ecolor='pink'))\n",
    "\n",
    "    rects2 = ax.bar(ind+width, E, width,\n",
    "                    color='green',\n",
    "                    #yerr=EStd,\n",
    "                    error_kw=dict(elinewidth=2,ecolor='blue'))\n",
    "\n",
    "    # axes and labels\n",
    "    ax.set_xlim(-width,len(ind)+width)\n",
    "    ax.set_ylabel('Tokens')\n",
    "    ax.set_title(\"tokens&effort_user_\" +name)\n",
    "    xTickMarks = [np.arange(0, time_steps+1, 5)]\n",
    "    ax.set_xlabel('User id')\n",
    "    \n",
    "    ## add a legend\n",
    "    ax.legend( (rects1[0], rects2[0]), ('Tokens', 'Effort') )\n",
    "\n",
    "    pl.savefig(\"tokens&effort_user_\" + name + \".png\")\n",
    "    pl.show()"
   ]
  },
  {
   "cell_type": "code",
   "execution_count": 45,
   "metadata": {},
   "outputs": [],
   "source": [
    "def calculate_flavour_distribution(state):\n",
    "    distribution = {pat:0 for pat in state[PATS]}\n",
    "    for user_wallet in state[USERS].values():\n",
    "        for pat, number_of_tokens in user_wallet.items():\n",
    "            if pat != \"reputation\":\n",
    "                distribution[pat] = raw_result[-1][PAT_ARGUMENTS][pat][-1]\n",
    "    dist = clean_PATS_of_special_tokens(distribution)\n",
    "    return dist"
   ]
  },
  {
   "cell_type": "code",
   "execution_count": 46,
   "metadata": {},
   "outputs": [],
   "source": [
    "def flavours():\n",
    "    arguments = raw_result[-1][PAT_ARGUMENTS]\n",
    "    flavours = []\n",
    "    for a in range(0, len(arguments)):\n",
    "        flavours.append(raw_result[-1][PAT_ARGUMENTS][a][2])\n",
    "    return flavours"
   ]
  },
  {
   "cell_type": "code",
   "execution_count": 47,
   "metadata": {
    "scrolled": true
   },
   "outputs": [],
   "source": [
    "if PAT_flav:\n",
    "    plt1 = pl.scatter(calculate_flavour_distribution(raw_result[-1]).keys(),\n",
    "                  flavours())\n",
    "\n",
    "    pl.axhline(3)\n",
    "    pl.axhline(7)\n",
    "    pl.xticks(np.arange(0, time_steps+1, 5))\n",
    "    pl.title(\"flavour_distribution\" + name)\n",
    "    pl.xlabel(\"PAT id\")\n",
    "    pl.ylabel(\"flavour\")\n",
    "    pl.savefig(\"flavour_distribution\" + name + \".png\")\n",
    "    pl.show()"
   ]
  },
  {
   "cell_type": "code",
   "execution_count": 48,
   "metadata": {},
   "outputs": [],
   "source": [
    "def calculate_good_tokens_per_pat(state):\n",
    "    distribution = {pat:0 for pat in state[PATS]}\n",
    "    for user_wallet in state[USERS].values():\n",
    "        for pat, number_of_tokens in user_wallet.items():\n",
    "            if pat != \"reputation\":\n",
    "                #print(\"pat\", pat)\n",
    "                #print(\"the flavour of the PAT: \", setup.raw_result[-1][setup.PAT_ARGUMENTS][pat])\n",
    "                if raw_result[-1][PAT_ARGUMENTS][pat][-1] <= 3:\n",
    "                    distribution[pat] += number_of_tokens\n",
    "    dist = clean_PATS_of_special_tokens(distribution)\n",
    "    return dist"
   ]
  },
  {
   "cell_type": "code",
   "execution_count": 49,
   "metadata": {},
   "outputs": [],
   "source": [
    "def calculate_bad_tokens_per_pat(state):\n",
    "    distribution = {pat:0 for pat in state[PATS]}\n",
    "    for user_wallet in state[USERS].values():\n",
    "        for pat, number_of_tokens in user_wallet.items():\n",
    "            if pat != \"reputation\":\n",
    "                #print(pat)\n",
    "                #print(setup.raw_result[-1][setup.PAT_ARGUMENTS][pat][-1])\n",
    "                if raw_result[-1][PAT_ARGUMENTS][pat][-1] > 7:\n",
    "                    distribution[pat] += number_of_tokens\n",
    "    dist = clean_PATS_of_special_tokens(distribution)\n",
    "    return dist"
   ]
  },
  {
   "cell_type": "code",
   "execution_count": 50,
   "metadata": {},
   "outputs": [],
   "source": [
    "def calculate_ok_tokens_per_pat(state):\n",
    "    distribution = {pat:0 for pat in state[PATS]}\n",
    "    for user_wallet in state[USERS].values():\n",
    "        for pat, number_of_tokens in user_wallet.items():\n",
    "            if pat != \"reputation\":\n",
    "                if raw_result[-1][PAT_ARGUMENTS][pat][-1] > 3 and raw_result[-1][PAT_ARGUMENTS][pat][-1] <=7:\n",
    "                    distribution[pat] += number_of_tokens\n",
    "    dist = clean_PATS_of_special_tokens(distribution)\n",
    "    return dist"
   ]
  },
  {
   "cell_type": "code",
   "execution_count": 51,
   "metadata": {},
   "outputs": [],
   "source": [
    "if PAT_flav:\n",
    "    GT = calculate_good_tokens_per_pat(raw_result[-1]).keys()\n",
    "    P1 = calculate_good_tokens_per_pat(raw_result[-1]).values()\n",
    "    BT = calculate_bad_tokens_per_pat(raw_result[-1]).keys()\n",
    "    P2 = calculate_bad_tokens_per_pat(raw_result[-1]).values()\n",
    "    IT = calculate_ok_tokens_per_pat(raw_result[-1]).keys()\n",
    "    P3 = calculate_ok_tokens_per_pat(raw_result[-1]).values()\n",
    "\n",
    "    pl.scatter(GT, P1, color='g')\n",
    "    pl.scatter(BT, P2, color='r')\n",
    "    pl.scatter(IT, P3, color='y')\n",
    "\n",
    "    pl.xticks(np.arange(0, time_steps+1, 5))\n",
    "    pl.title(\"new_stuff\" + name)\n",
    "    pl.xlabel(\"PAT\")\n",
    "    pl.ylabel(\"total nr. of tokens\")\n",
    "    pl.savefig(\"new_stuff\" + name + \".png\")\n",
    "    pl.show()"
   ]
  }
 ],
 "metadata": {
  "kernelspec": {
   "display_name": "Python 3",
   "language": "python",
   "name": "python3"
  },
  "language_info": {
   "codemirror_mode": {
    "name": "ipython",
    "version": 3
   },
   "file_extension": ".py",
   "mimetype": "text/x-python",
   "name": "python",
   "nbconvert_exporter": "python",
   "pygments_lexer": "ipython3",
   "version": "3.6.5"
  }
 },
 "nbformat": 4,
 "nbformat_minor": 2
}
