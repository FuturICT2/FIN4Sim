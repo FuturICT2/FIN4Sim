{
 "cells": [
  {
   "cell_type": "code",
   "execution_count": 1,
   "metadata": {},
   "outputs": [],
   "source": [
    "%matplotlib inline"
   ]
  },
  {
   "cell_type": "code",
   "execution_count": 2,
   "metadata": {},
   "outputs": [],
   "source": [
    "import random\n",
    "import numpy as np\n",
    "import pandas as pd\n",
    "import matplotlib.pylab as pl\n",
    "from cadCAD.configuration import Configuration\n",
    "from cadCAD.engine import ExecutionMode, ExecutionContext, Executor"
   ]
  },
  {
   "cell_type": "code",
   "execution_count": 3,
   "metadata": {},
   "outputs": [],
   "source": [
    "# general setup\n",
    "time_steps = 50 \n",
    "\n",
    "#special PATs, user specific\n",
    "spPAT = 3\n",
    "# 'vote' -\n",
    "# 'reputation' -\n",
    "# 'governance' -\n",
    "\n",
    "#PAT attributes, PAT specific\n",
    "PAT_atr = True\n",
    "# 'difficulty' -\n",
    "PAT_atr_max = False # not yet implemented\n",
    "# 'max' -\n",
    "# 'value' -\n",
    "\n",
    "#population settings\n",
    "community = True\n",
    "community_size_1 = 35\n",
    "community_series = False\n",
    "# not implemented yet\n",
    "community_size_2 = 0 \n",
    "# not implemented yet\n",
    "between_com = 0      \n",
    "\n",
    "#TCR settings - only voting implemented \n",
    "TCR = False            \n",
    "reputation_threshold_for_voting = 0 # reputation tokens\n",
    "voting_rate = False    # not imnplemented yet\n",
    "voting_rate_value = 20 #% not implemented yet\n",
    "\n",
    "#reputation token allocation\n",
    "\n",
    "# for proof of positive action\n",
    "rep_token_proof = False\n",
    "# for claiming/receiving a token\n",
    "rep_token_claim = False\n",
    "rep_PAT_creator = False\n",
    "\n",
    "#random OPATs\n",
    "# the PATs are selected randomly for voting from the existing PAT list \n",
    "random_OPATs = False\n",
    "# the selected PATs for voting are follow a fixed list of PAT ids\n",
    "fixed_OPAT_sugestion = False\n",
    "# the selected PATs from a fixed list become OPATs regardless of the vote results\n",
    "fixed_OPATs = False\n"
   ]
  },
  {
   "cell_type": "code",
   "execution_count": 4,
   "metadata": {},
   "outputs": [],
   "source": [
    "simulation_parameters = {\n",
    "    'T': range(time_steps),\n",
    "    'N': 1,\n",
    "    'M': {}\n",
    "}"
   ]
  },
  {
   "cell_type": "code",
   "execution_count": 5,
   "metadata": {},
   "outputs": [],
   "source": [
    "def get_update_name(variable_name):\n",
    "    return \"add_\" + variable_name"
   ]
  },
  {
   "cell_type": "code",
   "execution_count": 6,
   "metadata": {},
   "outputs": [],
   "source": [
    "#general constants\n",
    "TIMESTEP = 'timestep' # access to current timestep with s[TIMESTEP]\n",
    "USERS = \"users\"\n",
    "PATS = \"pats\"\n",
    "PAT_ARGUMENTS = \"pat_arguments\"\n",
    "OPATS = \"opats\"\n",
    "WALLET_GAINS = \"wallet_gains\"\n",
    "ADD_USERS = get_update_name(USERS)\n",
    "ADD_PATS = get_update_name(PATS)\n",
    "\n",
    "proposed_PAT_id = [5, 10, 15, 20, 25, 30, 35, 40]\n"
   ]
  },
  {
   "cell_type": "code",
   "execution_count": 7,
   "metadata": {},
   "outputs": [],
   "source": [
    "initial_conditions = {\n",
    "    USERS: {0:{}},  # users are numerical ids and a dictionary of their current wallet\n",
    "    PATS: [0],      # pats are currently simply numerical ids except 3 special PATs: vote, reputation and governance\n",
    "    PAT_ARGUMENTS: [(0, 1)], # PAT specific atributes\n",
    "    OPATS: ()\n",
    "}"
   ]
  },
  {
   "cell_type": "markdown",
   "metadata": {},
   "source": [
    "#### Secondary Functions"
   ]
  },
  {
   "cell_type": "code",
   "execution_count": 8,
   "metadata": {},
   "outputs": [],
   "source": [
    "def clear_PAT_list(pats):\n",
    "    print(\"pats\", pats)\n",
    "    for i in range(0, len(pats)-1):\n",
    "        try:\n",
    "            if pats[i] == \"vote\":\n",
    "                del pats[i]\n",
    "\n",
    "            if pats[i] == \"reputation\":\n",
    "                del pats[i]\n",
    "\n",
    "            if pats[i] == \"governance\":\n",
    "                del pats[i]\n",
    "        except:\n",
    "            pass\n",
    "    print(\"cleaned pats: \", pats)\n",
    "    return pats"
   ]
  },
  {
   "cell_type": "code",
   "execution_count": 9,
   "metadata": {},
   "outputs": [],
   "source": [
    "def pat_proposal(users):\n",
    "    choice = None\n",
    "    p = users[PATS].copy()\n",
    "    op = users[OPATS]\n",
    "    ch_list_1 = clear_PAT_list(p)\n",
    "\n",
    "    if fixed_OPAT_sugestion:\n",
    "        if users[TIMESTEP] % 5 != 0:\n",
    "            pass\n",
    "        else:\n",
    "            choice = users[TIMESTEP]\n",
    "    else:\n",
    "        if len(op) > 0 and op[0] != None:\n",
    "            if ch_list_1 != None:\n",
    "                if len(ch_list_1) > 0:\n",
    "                    ch_list = set(ch_list_1) - set(list(op))\n",
    "                    choice = random.choice(list(ch_list))\n",
    "            else:\n",
    "                choice = None\n",
    "        else:\n",
    "            choice = random.choice(p)\n",
    "    return choice\n"
   ]
  },
  {
   "cell_type": "code",
   "execution_count": 10,
   "metadata": {},
   "outputs": [],
   "source": [
    "def vote_result(users):\n",
    "    yes = 0\n",
    "    no = 0\n",
    "    for u in range(0, len(users)):\n",
    "        if 'vote' in users[u]:\n",
    "            if users[u].get(\"vote\") == 0:\n",
    "                no += 1\n",
    "            if users[u].get(\"vote\") == 1:\n",
    "                yes += 1\n",
    "        else:\n",
    "            pass\n",
    "    if no == 0 and yes == 0 or no == yes:\n",
    "        vote = None\n",
    "    elif no > yes:\n",
    "        vote = False\n",
    "    elif no < yes:\n",
    "        vote = True\n",
    "    return vote"
   ]
  },
  {
   "cell_type": "code",
   "execution_count": 11,
   "metadata": {},
   "outputs": [],
   "source": [
    "def distribute_tokens_pat_attributes(s, gain, extra_gain):\n",
    "    pats = s[PATS]\n",
    "    p = pats[3:]\n",
    "    users = s[USERS]\n",
    "    tstep = s[TIMESTEP]\n",
    "    arg = s[PAT_ARGUMENTS]\n",
    "    opats = s[OPATS]\n",
    "    # at most all the PATs of a person get a token\n",
    "    for u in users:\n",
    "        # for each pat in a list of paths of random length and random values\n",
    "        for pat in random.sample(p, random.randint(0, len(p))):\n",
    "            for i in arg:\n",
    "                if i[0] == pat:\n",
    "                    if tstep % i[1] == 0:#\n",
    "                        #if setup.PAT_atr_max and i[2] < counter[pat]:\n",
    "                        gain[(u, pat)] = 1\n",
    "        if opats != None:\n",
    "            for opa in range(0, len(opats)):\n",
    "                gain[(u, opats[opa])] = 1\n",
    "                extra_gain[(u, opats[opa])] = 1\n",
    "                print(\"extra gain: \", extra_gain)\n",
    "    return gain"
   ]
  },
  {
   "cell_type": "code",
   "execution_count": 12,
   "metadata": {},
   "outputs": [],
   "source": [
    "def distribute_tokens(s, gain, extra_gain):\n",
    "    users = s[USERS]\n",
    "    pats = s[PATS]\n",
    "    opats = s[OPATS]\n",
    "    p = pats[3:]\n",
    "    # at most all the PATs of a person get a token\n",
    "    for u in users:\n",
    "        # for each pat in a list of paths of random length and random values\n",
    "        for pat in random.sample(p, random.randint(0, len(p))):\n",
    "            gain[(u, pat)] = 1\n",
    "        if opats != None:\n",
    "            # if OPATs exist, every user will be allocated a token for each OPAT\n",
    "            for opa in range(0, len(opats)):\n",
    "                gain[(u, opats[opa])] = 1\n",
    "    return gain\n"
   ]
  },
  {
   "cell_type": "code",
   "execution_count": 13,
   "metadata": {},
   "outputs": [],
   "source": [
    "def get_rep_token(wallet, gain, n):\n",
    "    if 'reputation' in wallet:\n",
    "        wallet[\"reputation\"] = wallet.get(\"reputation\") + n * gain\n",
    "    else :\n",
    "        d = {\"reputation\": n}\n",
    "        wallet.update(d)\n",
    "    return wallet\n"
   ]
  },
  {
   "cell_type": "code",
   "execution_count": 14,
   "metadata": {},
   "outputs": [],
   "source": [
    "def add_fixed_opat(timestep, opats):\n",
    "    if timestep % 5 != 0:\n",
    "        pass\n",
    "    else:\n",
    "        proposed_PAT_id = timestep\n",
    "        opats = opats + tuple([proposed_PAT_id])\n",
    "    return opats"
   ]
  },
  {
   "cell_type": "code",
   "execution_count": 15,
   "metadata": {},
   "outputs": [],
   "source": [
    "def evaluate_vote_add_opat(prop_id, vote, opats):\n",
    "    if vote == None or vote == False or prop_id == None:\n",
    "        pass\n",
    "    else:\n",
    "        opats = opats + tuple([prop_id])\n",
    "    if opats != None:\n",
    "        if has_duplicates(opats):\n",
    "            opats = get_rid_of_duplicates(opats)\n",
    "    return opats"
   ]
  },
  {
   "cell_type": "code",
   "execution_count": 16,
   "metadata": {},
   "outputs": [],
   "source": [
    "def has_duplicates(iterable):\n",
    "    l = list(iterable)\n",
    "    try:\n",
    "        return len(set(iterable)) != len(iterable)\n",
    "    except:\n",
    "        l = list(iterable)\n",
    "        return len(set(l)) != len(l)\n"
   ]
  },
  {
   "cell_type": "code",
   "execution_count": 17,
   "metadata": {},
   "outputs": [],
   "source": [
    "def get_rid_of_duplicates(opats):\n",
    "    l = list(opats)\n",
    "    cleaned_list = list(dict.fromkeys(l))\n",
    "    return tuple(cleaned_list)"
   ]
  },
  {
   "cell_type": "markdown",
   "metadata": {},
   "source": [
    "#### Main Functions - to update at every time step"
   ]
  },
  {
   "cell_type": "code",
   "execution_count": 18,
   "metadata": {},
   "outputs": [],
   "source": [
    "def create_users(params, step, sL, s):\n",
    "    next_user_id = len(s[USERS])\n",
    "    x = {ADD_USERS:[\n",
    "        (next_user_id, {}),\n",
    "    ]}\n",
    "    if next_user_id == 1:\n",
    "        u = s[USERS].copy()\n",
    "        d = {\"reputation\": 1}\n",
    "        u[0].update(d)\n",
    "    return x"
   ]
  },
  {
   "cell_type": "code",
   "execution_count": 19,
   "metadata": {},
   "outputs": [],
   "source": [
    "def create_pat(params, step, sL, s):\n",
    "    next_pat_id = len(s[PATS])\n",
    "    if next_pat_id >= 2:\n",
    "        next_pat_id = len(s[PATS]) - 3\n",
    "    x = {ADD_PATS:[next_pat_id,]}\n",
    "    return x"
   ]
  },
  {
   "cell_type": "code",
   "execution_count": 20,
   "metadata": {},
   "outputs": [],
   "source": [
    "def create_pat_arguments(params, step, sL, s):\n",
    "    next_pat_id = len(s[PAT_ARGUMENTS])\n",
    "    dificulty = random.randint(1,10)\n",
    "    if PAT_atr_max:\n",
    "        max = random.randint(1,30)\n",
    "        return ({'ID': next_pat_id, 'dif':dificulty, \"max\":max})\n",
    "    else:\n",
    "        return ({'ID': next_pat_id, 'dif':dificulty})"
   ]
  },
  {
   "cell_type": "code",
   "execution_count": 21,
   "metadata": {},
   "outputs": [],
   "source": [
    "def user_actions(params, step, sL, s):\n",
    "    gain = {}\n",
    "    gain_ext = {}\n",
    "    if community:\n",
    "        if s[TIMESTEP] <= community_size_1:\n",
    "            pass\n",
    "        elif community_size_2 > 0:\n",
    "            if s[TIMESTEP] > (community_size_1 + between_com) and s[TIMESTEP] <= (community_size_1 + between_com + community_size_2):\n",
    "                pass\n",
    "            else:\n",
    "                if PAT_atr:\n",
    "                    distribute_tokens_pat_attributes(s, gain, gain_ext)\n",
    "                else:\n",
    "                    distribute_tokens(s, gain, gain_ext)        \n",
    "        else:\n",
    "            if PAT_atr:\n",
    "                distribute_tokens_pat_attributes(s, gain, gain_ext)\n",
    "            else:\n",
    "                distribute_tokens(s, gain, gain_ext)\n",
    "    else:\n",
    "        if PAT_atr:\n",
    "            distribute_tokens_pat_attributes(s, gain, gain_ext)\n",
    "        else:\n",
    "            distribute_tokens(s, gain, gain_ext)\n",
    "    return {WALLET_GAINS: gain}"
   ]
  },
  {
   "cell_type": "code",
   "execution_count": 22,
   "metadata": {},
   "outputs": [],
   "source": [
    "def user_vote(params, step, sL, s):\n",
    "    x = s[USERS].copy()\n",
    "    pat = pat_proposal(s)\n",
    "    for u in range(0, len(x)-1):\n",
    "        # ---------------F4-----fixed threshold or percentage\n",
    "        if 'reputation' in x[u] and x[u].get(\"reputation\") > reputation_threshold_for_voting:\n",
    "            if \"vote\" in x[u]:\n",
    "                v = random.randint(0, 1)\n",
    "                d = {\"vote\": v}\n",
    "                x[u].update(d)\n",
    "            else:\n",
    "                d = {\"vote\": 0}\n",
    "                x[u].update(d)\n",
    "\n",
    "    return ({'Vote':x, 'Proposed_pat':pat})\n"
   ]
  },
  {
   "cell_type": "markdown",
   "metadata": {},
   "source": [
    "#### Main Funstions - to update the variables at every time step"
   ]
  },
  {
   "cell_type": "code",
   "execution_count": 23,
   "metadata": {},
   "outputs": [],
   "source": [
    "def add_users(params, step, sL, s, _input):\n",
    "    x = s[USERS].copy()\n",
    "    for new_user_id, wallet in _input[ADD_USERS]:\n",
    "        x[new_user_id] = wallet\n",
    "    return (USERS, x)"
   ]
  },
  {
   "cell_type": "code",
   "execution_count": 24,
   "metadata": {},
   "outputs": [],
   "source": [
    "def add_pat(params, step, sL, s, _input):\n",
    "    x = s[PATS].copy()\n",
    "    if len(x) <=2:\n",
    "        initial = x\n",
    "        spec = ['vote', 'reputation', 'governance']\n",
    "        x = spec + initial\n",
    "    x.extend(_input[ADD_PATS])\n",
    "    #if setup.rep_PAT_owner:\n",
    "    # ---------------F3-------------------------------------\n",
    "    #add activity token to the user who comes up with the added token     - PAT_owner\n",
    "        #u = s[USERS].copy()\n",
    "        #matching_user = _input[ADD_PATS][0]\n",
    "        #x = get_rep_token(u[user], 1, 1)\n",
    "        #if u[matching_user].get(\"reputation\", 0) == 0:\n",
    "        #    d = {\"reputation\": 1}\n",
    "        #    u[matching_user].update(d)\n",
    "        #else:\n",
    "        #    u[matching_user][\"reputation\"] = u[matching_user].get(\"reputation\") + 1\n",
    "    return (PATS, x)\n"
   ]
  },
  {
   "cell_type": "code",
   "execution_count": 25,
   "metadata": {},
   "outputs": [],
   "source": [
    "def add_pat_arguments(params, step, sL, s, _input):\n",
    "    x = s[PAT_ARGUMENTS].copy()\n",
    "    if PAT_atr_max:\n",
    "        d = (_input[\"ID\"], _input[\"dif\"], _input[\"max\"])\n",
    "        x.append(d)\n",
    "    d = (_input[\"ID\"], _input[\"dif\"])\n",
    "    x.append(d)\n",
    "    return (PAT_ARGUMENTS, x)\n"
   ]
  },
  {
   "cell_type": "code",
   "execution_count": 26,
   "metadata": {},
   "outputs": [],
   "source": [
    "def update_user_wallets(params, step, sL, s, _input):\n",
    "    x = s[USERS].copy()\n",
    "    changes = _input[WALLET_GAINS]\n",
    "    for (user, pat), gain in changes.items():\n",
    "        #add the token itself\n",
    "        x[user][pat] = x[user].get(pat, 0) + gain\n",
    "        if rep_token_claim:\n",
    "            if rep_token_proof:\n",
    "                # gain one reputation token for the proof of positive action\n",
    "                # and one for receiving a token (of any kind)\n",
    "                x[user] = get_rep_token(x[user], gain, 1)\n",
    "                x[user] = get_rep_token(x[user], gain, 1)\n",
    "            else:\n",
    "                x[user] = get_rep_token(x[user], gain, 1)\n",
    "        if rep_PAT_creator:\n",
    "            x[user] = get_rep_token(x[user], gain, 1)\n",
    "    return (USERS, x)"
   ]
  },
  {
   "cell_type": "code",
   "execution_count": 27,
   "metadata": {},
   "outputs": [],
   "source": [
    "def opats(params, step, sL, s, _input):\n",
    "    result = vote_result(_input[\"Vote\"])\n",
    "    proposed_PAT_id = None\n",
    "    updated_opats = s[OPATS]\n",
    "    if random_OPATs or fixed_OPAT_sugestion:\n",
    "        proposed_PAT_id = _input[\"Proposed_pat\"]\n",
    "        updated_opats = evaluate_vote_add_opat(proposed_PAT_id, result, updated_opats)\n",
    "    if fixed_OPATs:\n",
    "        updated_opats = add_fixed_opat(s[TIMESTEP], s[OPATS])\n",
    "    return (OPATS, updated_opats)\n"
   ]
  },
  {
   "cell_type": "code",
   "execution_count": 28,
   "metadata": {},
   "outputs": [],
   "source": [
    "if TCR:\n",
    "    partial_state_update_blocks = [\n",
    "        {\n",
    "            'policies': {\n",
    "                'create_users': create_users,\n",
    "            },\n",
    "            'variables': {\n",
    "                USERS: add_users,\n",
    "            }\n",
    "        },\n",
    "\n",
    "        {\n",
    "            'policies': {\n",
    "                'create_pat': create_pat,\n",
    "            },\n",
    "            'variables': {\n",
    "                PATS: add_pat,\n",
    "            }\n",
    "        },\n",
    "\n",
    "        {\n",
    "            'policies': {\n",
    "                'user_actions': user_actions,\n",
    "            },\n",
    "            'variables': {\n",
    "                USERS: update_user_wallets,\n",
    "            }\n",
    "        },\n",
    "        {\n",
    "            'policies': {\n",
    "                'user_vote': user_vote,\n",
    "            },\n",
    "            'variables': {\n",
    "                OPATS: opats,\n",
    "            }\n",
    "        },\n",
    "    ]\n",
    "if PAT_atr:\n",
    "    partial_state_update_blocks = [\n",
    "        {\n",
    "            'policies': {\n",
    "                'create_users': create_users,\n",
    "            },\n",
    "            'variables': {\n",
    "                USERS: add_users,\n",
    "            }\n",
    "        },\n",
    "\n",
    "        {\n",
    "            'policies': {\n",
    "                'create_pat': create_pat,\n",
    "            },\n",
    "            'variables': {\n",
    "                PATS: add_pat,\n",
    "            }\n",
    "        },\n",
    "\n",
    "        {\n",
    "            'policies': {\n",
    "                'create_pat_arguments': create_pat_arguments,\n",
    "            },\n",
    "            'variables': {\n",
    "                PAT_ARGUMENTS: add_pat_arguments,\n",
    "            }\n",
    "        },\n",
    "\n",
    "        {\n",
    "            'policies': {\n",
    "                'user_actions': user_actions,\n",
    "            },\n",
    "            'variables': {\n",
    "                USERS: update_user_wallets,\n",
    "            }\n",
    "        },\n",
    "    ]\n",
    "else:\n",
    "    partial_state_update_blocks = [\n",
    "        {\n",
    "            'policies': {\n",
    "                'create_users': create_users,\n",
    "            },\n",
    "            'variables': {\n",
    "                USERS: add_users,\n",
    "            }\n",
    "        },\n",
    "\n",
    "        {\n",
    "            'policies': {\n",
    "                'create_pat': create_pat,\n",
    "            },\n",
    "            'variables': {\n",
    "                PATS: add_pat,\n",
    "            }\n",
    "        },\n",
    "\n",
    "        {\n",
    "            'policies': {\n",
    "                'user_actions': user_actions,\n",
    "            },\n",
    "            'variables': {\n",
    "                USERS: update_user_wallets,\n",
    "            }\n",
    "        },\n",
    "    ]"
   ]
  },
  {
   "cell_type": "code",
   "execution_count": 29,
   "metadata": {
    "scrolled": false
   },
   "outputs": [
    {
     "name": "stdout",
     "output_type": "stream",
     "text": [
      "\n",
      "                            __________   ____ \n",
      "          ________ __ _____/ ____/   |  / __ \\\n",
      "         / ___/ __` / __  / /   / /| | / / / /\n",
      "        / /__/ /_/ / /_/ / /___/ ___ |/ /_/ / \n",
      "        \\___/\\__,_/\\__,_/\\____/_/  |_/_____/  \n",
      "        by BlockScience\n",
      "        \n",
      "Execution Mode: single_proc: [<cadCAD.configuration.Configuration object at 0x000002207908F358>]\n",
      "Configurations: [<cadCAD.configuration.Configuration object at 0x000002207908F358>]\n"
     ]
    }
   ],
   "source": [
    "config = Configuration(initial_state=initial_conditions,                         #dict containing variable names and initial values\n",
    "                       partial_state_update_blocks=partial_state_update_blocks,  #dict containing state update functions\n",
    "                       sim_config=simulation_parameters                          #dict containing simulation parameters\n",
    "                      )\n",
    "\n",
    "exec_mode = ExecutionMode()\n",
    "exec_context = ExecutionContext(exec_mode.single_proc)\n",
    "executor = Executor(exec_context, [config])                                       #Pass the configuration object inside an array\n",
    "raw_result, tensor = executor.execute()\n"
   ]
  },
  {
   "cell_type": "markdown",
   "metadata": {},
   "source": [
    "#### Name construction "
   ]
  },
  {
   "cell_type": "code",
   "execution_count": 30,
   "metadata": {},
   "outputs": [],
   "source": [
    "if TCR:\n",
    "    name = \"tcr_\"\n",
    "else:\n",
    "    name = \"s_\"\n",
    "name = name + \"t\" + str(time_steps) + \"_c\"\n",
    "if community and community_size_1:\n",
    "    if community_size_2:\n",
    "        name = name + \"11_\"\n",
    "    name = name + \"1_\"\n",
    "else:\n",
    "    name = name + \"0_\"\n",
    "name = name + \"vt\" + str(reputation_threshold_for_voting)\n",
    "if random_OPATs:\n",
    "    name = name + \"_rOPATs\"\n",
    "if fixed_OPATs:\n",
    "    name = name + \"_fOPATs\"\n",
    "if fixed_OPAT_sugestion:\n",
    "    name = name + \"_fsOPATs\"\n",
    "if PAT_atr:\n",
    "    name = name + \"_PATatr\"\n",
    "else:\n",
    "    name = name + \"_simplePATs\""
   ]
  },
  {
   "cell_type": "code",
   "execution_count": 31,
   "metadata": {},
   "outputs": [],
   "source": [
    "#### Data analysis"
   ]
  },
  {
   "cell_type": "code",
   "execution_count": 32,
   "metadata": {},
   "outputs": [],
   "source": [
    "df = pd.DataFrame(raw_result)\n",
    "t_step = raw_result[len(raw_result)-1][\"timestep\"]"
   ]
  },
  {
   "cell_type": "code",
   "execution_count": 33,
   "metadata": {},
   "outputs": [],
   "source": [
    "def clean_PATS_of_special_tokens(s):\n",
    "    if s.get(\"reputation\", 0) != 0 or s.get(\"reputation\") == 0:\n",
    "        s.pop(\"reputation\")\n",
    "\n",
    "    if s.get(\"activity\", 0) != 0 or s.get(\"activity\") == 0:\n",
    "        s.pop(\"activity\")\n",
    "\n",
    "    if s.get(\"vote\", 0) != 0 or s.get(\"vote\") == 0:\n",
    "        s.pop(\"vote\")\n",
    "\n",
    "    if s.get(\"governance\", 0) != 0 or s.get(\"governance\") == 0:\n",
    "        s.pop(\"governance\")\n",
    "    return s"
   ]
  },
  {
   "cell_type": "code",
   "execution_count": 34,
   "metadata": {},
   "outputs": [],
   "source": [
    "def calculate_total_tokens_per_pat(state):\n",
    "    distribution = {pat:0 for pat in state[PATS]}\n",
    "    for user_wallet in state[USERS].values():\n",
    "        for pat, number_of_tokens in user_wallet.items():\n",
    "            distribution[pat] += number_of_tokens\n",
    "    dist = clean_PATS_of_special_tokens(distribution)\n",
    "    return dist"
   ]
  },
  {
   "cell_type": "code",
   "execution_count": 35,
   "metadata": {},
   "outputs": [],
   "source": [
    "def calculate_number_of_tokens_per_person(state):\n",
    "    distribution = {user: 0 for user in state[USERS].keys()}\n",
    "    user = 0\n",
    "    for user_wallet in state[USERS].values():\n",
    "        for pat, number_of_tokens in user_wallet.items():\n",
    "            if pat != \"reputation\":\n",
    "                distribution[user] += number_of_tokens\n",
    "            else:\n",
    "                pass\n",
    "        user += 1\n",
    "    return distribution\n"
   ]
  },
  {
   "cell_type": "code",
   "execution_count": 36,
   "metadata": {},
   "outputs": [],
   "source": [
    "def calculate_effort_per_person(state):\n",
    "    distribution = {user: 0 for user in state[USERS].keys()}\n",
    "    user = 0\n",
    "    for user_wallet in state[USERS].values():\n",
    "        for pat, number_of_tokens in user_wallet.items():\n",
    "            if pat != \"reputation\":\n",
    "                distribution[user] += number_of_tokens * raw_result[-1][PAT_ARGUMENTS][pat][-1]\n",
    "            else:\n",
    "                pass\n",
    "        user += 1\n",
    "    return distribution"
   ]
  },
  {
   "cell_type": "code",
   "execution_count": 37,
   "metadata": {},
   "outputs": [
    {
     "name": "stdout",
     "output_type": "stream",
     "text": [
      "  Pat id    difficulty\n",
      "--------  ------------\n",
      "       0             1\n",
      "       1             4\n",
      "       2             6\n",
      "       3             6\n",
      "       4             1\n",
      "       5            10\n",
      "       6             3\n",
      "       7             9\n",
      "       8             5\n",
      "       9             2\n",
      "      10             7\n",
      "      11             2\n",
      "      12             7\n",
      "      13             4\n",
      "      14            10\n",
      "      15             5\n",
      "      16            10\n",
      "      17             8\n",
      "      18             3\n",
      "      19             8\n",
      "      20             1\n",
      "      21             6\n",
      "      22             3\n",
      "      23             3\n",
      "      24             1\n",
      "      25             7\n",
      "      26            10\n",
      "      27             6\n",
      "      28             9\n",
      "      29             2\n",
      "      30             8\n",
      "      31             1\n",
      "      32             3\n",
      "      33            10\n",
      "      34            10\n",
      "      35             9\n",
      "      36             7\n",
      "      37             6\n",
      "      38             8\n",
      "      39             4\n",
      "      40             3\n",
      "      41            10\n",
      "      42             6\n",
      "      43             4\n",
      "      44             9\n",
      "      45             9\n",
      "      46             1\n",
      "      47            10\n",
      "      48             3\n",
      "      49             1\n",
      "      50            10\n"
     ]
    }
   ],
   "source": [
    "if PAT_atr:\n",
    "    from tabulate import tabulate\n",
    "    headers = ['Pat id', 'difficulty']\n",
    "    data = sorted([(k,v) for k,v in raw_result[-1][PAT_ARGUMENTS]])\n",
    "    print(tabulate(data, headers=headers))"
   ]
  },
  {
   "cell_type": "code",
   "execution_count": 38,
   "metadata": {},
   "outputs": [
    {
     "data": {
      "image/png": "[encoded data removed]",
      "text/plain": [
       "<Figure size 432x288 with 1 Axes>"
      ]
     },
     "metadata": {
      "needs_background": "light"
     },
     "output_type": "display_data"
    }
   ],
   "source": [
    "plt1 = pl.scatter(calculate_total_tokens_per_pat(raw_result[-1]).keys(),\n",
    "           calculate_total_tokens_per_pat(raw_result[-1]).values())\n",
    "\n",
    "pl.xticks(np.arange(0, t_step+1, 5))\n",
    "pl.title(\"tokens_PAT_\" + name)\n",
    "pl.xlabel(\"PATs\")\n",
    "pl.ylabel(\"nr. of tokens\")\n",
    "pl.savefig(\"tokens_PAT_\" + name + \".png\")\n",
    "pl.show()"
   ]
  },
  {
   "cell_type": "code",
   "execution_count": 39,
   "metadata": {},
   "outputs": [
    {
     "data": {
      "image/png": "[encoded data removed]",
      "text/plain": [
       "<Figure size 432x288 with 1 Axes>"
      ]
     },
     "metadata": {
      "needs_background": "light"
     },
     "output_type": "display_data"
    }
   ],
   "source": [
    "plt1 = pl.scatter(calculate_number_of_tokens_per_person(raw_result[-1]).keys(),\n",
    "                  calculate_number_of_tokens_per_person(raw_result[-1]).values())\n",
    "\n",
    "pl.xticks(np.arange(0, time_steps+1, 5))\n",
    "pl.title(\"tokens_user_\" + name)\n",
    "pl.xlabel(\"user id\")\n",
    "pl.ylabel(\"nr. of tokens\")\n",
    "pl.savefig(\"tokens_user_\" + name + \".png\")\n",
    "pl.show()"
   ]
  },
  {
   "cell_type": "code",
   "execution_count": 40,
   "metadata": {},
   "outputs": [
    {
     "data": {
      "image/png": "[encoded data removed]",
      "text/plain": [
       "<Figure size 432x288 with 1 Axes>"
      ]
     },
     "metadata": {
      "needs_background": "light"
     },
     "output_type": "display_data"
    }
   ],
   "source": [
    "if PAT_atr:\n",
    "    U1 = calculate_number_of_tokens_per_person(raw_result[-1]).keys()\n",
    "    T = calculate_number_of_tokens_per_person(raw_result[-1]).values()\n",
    "    U2 = calculate_effort_per_person(raw_result[-1]).keys()\n",
    "    E = calculate_effort_per_person(raw_result[-1]).values()\n",
    "\n",
    "    fig = pl.figure()\n",
    "    ax = fig.add_subplot(111)\n",
    "\n",
    "    N = len(U1)\n",
    "\n",
    "    ind = np.arange(N)\n",
    "    width = 0.6\n",
    "\n",
    "    ## the bars\n",
    "    rects1 = ax.bar(ind, T, width,\n",
    "                color='purple',\n",
    "                #yerr=TStd,\n",
    "                error_kw=dict(elinewidth=2,ecolor='pink'))\n",
    "\n",
    "    rects2 = ax.bar(ind+width, E, width,\n",
    "                    color='green',\n",
    "                    #yerr=EStd,\n",
    "                    error_kw=dict(elinewidth=2,ecolor='blue'))\n",
    "\n",
    "    # axes and labels\n",
    "    ax.set_xlim(-width,len(ind)+width)\n",
    "    ax.set_ylabel('Tokens')\n",
    "    ax.set_title(\"tokens&effort_user_\" +name)\n",
    "    xTickMarks = [np.arange(0, time_steps+1, 5)]\n",
    "    ax.set_xlabel('User id')\n",
    "    \n",
    "    ## add a legend\n",
    "    ax.legend( (rects1[0], rects2[0]), ('Tokens', 'Effort') )\n",
    "\n",
    "    pl.savefig(\"tokens&effort_user_\" + name + \".png\")\n",
    "    pl.show()"
   ]
  }
 ],
 "metadata": {
  "kernelspec": {
   "display_name": "Python 3",
   "language": "python",
   "name": "python3"
  },
  "language_info": {
   "codemirror_mode": {
    "name": "ipython",
    "version": 3
   },
   "file_extension": ".py",
   "mimetype": "text/x-python",
   "name": "python",
   "nbconvert_exporter": "python",
   "pygments_lexer": "ipython3",
   "version": "3.6.5"
  }
 },
 "nbformat": 4,
 "nbformat_minor": 2
}
